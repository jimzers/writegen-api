{
 "cells": [
  {
   "cell_type": "markdown",
   "metadata": {},
   "source": [
    "# Prepping some South Park Data"
   ]
  },
  {
   "cell_type": "code",
   "execution_count": 6,
   "metadata": {},
   "outputs": [],
   "source": [
    "import numpy as np\n",
    "\n",
    "import pandas as pd\n"
   ]
  },
  {
   "cell_type": "markdown",
   "metadata": {},
   "source": [
    "## Read in the data file"
   ]
  },
  {
   "cell_type": "code",
   "execution_count": 4,
   "metadata": {},
   "outputs": [
    {
     "data": {
      "text/html": [
       "<div>\n",
       "<style scoped>\n",
       "    .dataframe tbody tr th:only-of-type {\n",
       "        vertical-align: middle;\n",
       "    }\n",
       "\n",
       "    .dataframe tbody tr th {\n",
       "        vertical-align: top;\n",
       "    }\n",
       "\n",
       "    .dataframe thead th {\n",
       "        text-align: right;\n",
       "    }\n",
       "</style>\n",
       "<table border=\"1\" class=\"dataframe\">\n",
       "  <thead>\n",
       "    <tr style=\"text-align: right;\">\n",
       "      <th></th>\n",
       "      <th>Season</th>\n",
       "      <th>Episode</th>\n",
       "      <th>Character</th>\n",
       "      <th>Line</th>\n",
       "    </tr>\n",
       "  </thead>\n",
       "  <tbody>\n",
       "    <tr>\n",
       "      <th>0</th>\n",
       "      <td>10</td>\n",
       "      <td>1</td>\n",
       "      <td>Stan</td>\n",
       "      <td>You guys, you guys! Chef is going away. \\n</td>\n",
       "    </tr>\n",
       "    <tr>\n",
       "      <th>1</th>\n",
       "      <td>10</td>\n",
       "      <td>1</td>\n",
       "      <td>Kyle</td>\n",
       "      <td>Going away? For how long?\\n</td>\n",
       "    </tr>\n",
       "    <tr>\n",
       "      <th>2</th>\n",
       "      <td>10</td>\n",
       "      <td>1</td>\n",
       "      <td>Sta</td>\n",
       "      <td>Forever.\\n</td>\n",
       "    </tr>\n",
       "    <tr>\n",
       "      <th>3</th>\n",
       "      <td>10</td>\n",
       "      <td>1</td>\n",
       "      <td>Chef</td>\n",
       "      <td>I'm sorry boys.\\n</td>\n",
       "    </tr>\n",
       "    <tr>\n",
       "      <th>4</th>\n",
       "      <td>10</td>\n",
       "      <td>1</td>\n",
       "      <td>Stan</td>\n",
       "      <td>Chef said he's been bored, so he joining a gro...</td>\n",
       "    </tr>\n",
       "  </tbody>\n",
       "</table>\n",
       "</div>"
      ],
      "text/plain": [
       "  Season Episode Character                                               Line\n",
       "0     10       1      Stan         You guys, you guys! Chef is going away. \\n\n",
       "1     10       1      Kyle                        Going away? For how long?\\n\n",
       "2     10       1       Sta                                         Forever.\\n\n",
       "3     10       1      Chef                                  I'm sorry boys.\\n\n",
       "4     10       1      Stan  Chef said he's been bored, so he joining a gro..."
      ]
     },
     "execution_count": 4,
     "metadata": {},
     "output_type": "execute_result"
    }
   ],
   "source": [
    "data = pd.read_csv('./data/SouthParkData/All-seasons.csv')\n",
    "data.head(5)"
   ]
  },
  {
   "cell_type": "code",
   "execution_count": 10,
   "metadata": {},
   "outputs": [
    {
     "data": {
      "text/plain": [
       "3987"
      ]
     },
     "execution_count": 10,
     "metadata": {},
     "output_type": "execute_result"
    }
   ],
   "source": [
    "unique_chars = np.unique(data['Character'])\n",
    "len(unique_chars)"
   ]
  },
  {
   "cell_type": "code",
   "execution_count": 20,
   "metadata": {},
   "outputs": [
    {
     "name": "stdout",
     "output_type": "stream",
     "text": [
      "19\n"
     ]
    },
    {
     "data": {
      "text/plain": [
       "array(['1', '10', '11', '12', '13', '14', '15', '16', '17', '18', '2',\n",
       "       '3', '4', '5', '6', '7', '8', '9', 'Season'], dtype=object)"
      ]
     },
     "execution_count": 20,
     "metadata": {},
     "output_type": "execute_result"
    }
   ],
   "source": [
    "unique_seasons = np.unique(data['Season'])\n",
    "print(len(unique_seasons))\n",
    "unique_seasons"
   ]
  },
  {
   "cell_type": "code",
   "execution_count": 28,
   "metadata": {
    "scrolled": true
   },
   "outputs": [],
   "source": [
    "no_season_rows = data[data['Season'] != 'Season']"
   ]
  },
  {
   "cell_type": "code",
   "execution_count": null,
   "metadata": {},
   "outputs": [],
   "source": []
  },
  {
   "cell_type": "code",
   "execution_count": 24,
   "metadata": {},
   "outputs": [
    {
     "data": {
      "text/html": [
       "<div>\n",
       "<style scoped>\n",
       "    .dataframe tbody tr th:only-of-type {\n",
       "        vertical-align: middle;\n",
       "    }\n",
       "\n",
       "    .dataframe tbody tr th {\n",
       "        vertical-align: top;\n",
       "    }\n",
       "\n",
       "    .dataframe thead th {\n",
       "        text-align: right;\n",
       "    }\n",
       "</style>\n",
       "<table border=\"1\" class=\"dataframe\">\n",
       "  <thead>\n",
       "    <tr style=\"text-align: right;\">\n",
       "      <th></th>\n",
       "      <th>Season</th>\n",
       "      <th>Episode</th>\n",
       "      <th>Character</th>\n",
       "      <th>Line</th>\n",
       "    </tr>\n",
       "  </thead>\n",
       "  <tbody>\n",
       "    <tr>\n",
       "      <th>3469</th>\n",
       "      <td>Season</td>\n",
       "      <td>Episode</td>\n",
       "      <td>Character</td>\n",
       "      <td>Line</td>\n",
       "    </tr>\n",
       "    <tr>\n",
       "      <th>6948</th>\n",
       "      <td>Season</td>\n",
       "      <td>Episode</td>\n",
       "      <td>Character</td>\n",
       "      <td>Line</td>\n",
       "    </tr>\n",
       "    <tr>\n",
       "      <th>10256</th>\n",
       "      <td>Season</td>\n",
       "      <td>Episode</td>\n",
       "      <td>Character</td>\n",
       "      <td>Line</td>\n",
       "    </tr>\n",
       "    <tr>\n",
       "      <th>13514</th>\n",
       "      <td>Season</td>\n",
       "      <td>Episode</td>\n",
       "      <td>Character</td>\n",
       "      <td>Line</td>\n",
       "    </tr>\n",
       "    <tr>\n",
       "      <th>16861</th>\n",
       "      <td>Season</td>\n",
       "      <td>Episode</td>\n",
       "      <td>Character</td>\n",
       "      <td>Line</td>\n",
       "    </tr>\n",
       "    <tr>\n",
       "      <th>19963</th>\n",
       "      <td>Season</td>\n",
       "      <td>Episode</td>\n",
       "      <td>Character</td>\n",
       "      <td>Line</td>\n",
       "    </tr>\n",
       "    <tr>\n",
       "      <th>23084</th>\n",
       "      <td>Season</td>\n",
       "      <td>Episode</td>\n",
       "      <td>Character</td>\n",
       "      <td>Line</td>\n",
       "    </tr>\n",
       "    <tr>\n",
       "      <th>25390</th>\n",
       "      <td>Season</td>\n",
       "      <td>Episode</td>\n",
       "      <td>Character</td>\n",
       "      <td>Line</td>\n",
       "    </tr>\n",
       "    <tr>\n",
       "      <th>27912</th>\n",
       "      <td>Season</td>\n",
       "      <td>Episode</td>\n",
       "      <td>Character</td>\n",
       "      <td>Line</td>\n",
       "    </tr>\n",
       "    <tr>\n",
       "      <th>32083</th>\n",
       "      <td>Season</td>\n",
       "      <td>Episode</td>\n",
       "      <td>Character</td>\n",
       "      <td>Line</td>\n",
       "    </tr>\n",
       "    <tr>\n",
       "      <th>38500</th>\n",
       "      <td>Season</td>\n",
       "      <td>Episode</td>\n",
       "      <td>Character</td>\n",
       "      <td>Line</td>\n",
       "    </tr>\n",
       "    <tr>\n",
       "      <th>44299</th>\n",
       "      <td>Season</td>\n",
       "      <td>Episode</td>\n",
       "      <td>Character</td>\n",
       "      <td>Line</td>\n",
       "    </tr>\n",
       "    <tr>\n",
       "      <th>49980</th>\n",
       "      <td>Season</td>\n",
       "      <td>Episode</td>\n",
       "      <td>Character</td>\n",
       "      <td>Line</td>\n",
       "    </tr>\n",
       "    <tr>\n",
       "      <th>54395</th>\n",
       "      <td>Season</td>\n",
       "      <td>Episode</td>\n",
       "      <td>Character</td>\n",
       "      <td>Line</td>\n",
       "    </tr>\n",
       "    <tr>\n",
       "      <th>59527</th>\n",
       "      <td>Season</td>\n",
       "      <td>Episode</td>\n",
       "      <td>Character</td>\n",
       "      <td>Line</td>\n",
       "    </tr>\n",
       "    <tr>\n",
       "      <th>63764</th>\n",
       "      <td>Season</td>\n",
       "      <td>Episode</td>\n",
       "      <td>Character</td>\n",
       "      <td>Line</td>\n",
       "    </tr>\n",
       "    <tr>\n",
       "      <th>67368</th>\n",
       "      <td>Season</td>\n",
       "      <td>Episode</td>\n",
       "      <td>Character</td>\n",
       "      <td>Line</td>\n",
       "    </tr>\n",
       "  </tbody>\n",
       "</table>\n",
       "</div>"
      ],
      "text/plain": [
       "       Season  Episode  Character  Line\n",
       "3469   Season  Episode  Character  Line\n",
       "6948   Season  Episode  Character  Line\n",
       "10256  Season  Episode  Character  Line\n",
       "13514  Season  Episode  Character  Line\n",
       "16861  Season  Episode  Character  Line\n",
       "19963  Season  Episode  Character  Line\n",
       "23084  Season  Episode  Character  Line\n",
       "25390  Season  Episode  Character  Line\n",
       "27912  Season  Episode  Character  Line\n",
       "32083  Season  Episode  Character  Line\n",
       "38500  Season  Episode  Character  Line\n",
       "44299  Season  Episode  Character  Line\n",
       "49980  Season  Episode  Character  Line\n",
       "54395  Season  Episode  Character  Line\n",
       "59527  Season  Episode  Character  Line\n",
       "63764  Season  Episode  Character  Line\n",
       "67368  Season  Episode  Character  Line"
      ]
     },
     "execution_count": 24,
     "metadata": {},
     "output_type": "execute_result"
    }
   ],
   "source": [
    "data[data['Season'] == 'Season']"
   ]
  },
  {
   "cell_type": "code",
   "execution_count": null,
   "metadata": {},
   "outputs": [],
   "source": []
  },
  {
   "cell_type": "code",
   "execution_count": null,
   "metadata": {},
   "outputs": [],
   "source": []
  }
 ],
 "metadata": {
  "kernelspec": {
   "display_name": "Python 3",
   "language": "python",
   "name": "python3"
  },
  "language_info": {
   "codemirror_mode": {
    "name": "ipython",
    "version": 3
   },
   "file_extension": ".py",
   "mimetype": "text/x-python",
   "name": "python",
   "nbconvert_exporter": "python",
   "pygments_lexer": "ipython3",
   "version": "3.6.9"
  }
 },
 "nbformat": 4,
 "nbformat_minor": 2
}
